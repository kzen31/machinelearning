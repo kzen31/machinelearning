{
  "nbformat": 4,
  "nbformat_minor": 0,
  "metadata": {
    "colab": {
      "name": "TestMachineLearning.ipynb",
      "provenance": [],
      "collapsed_sections": []
    },
    "kernelspec": {
      "name": "python3",
      "display_name": "Python 3"
    },
    "language_info": {
      "name": "python"
    }
  },
  "cells": [
    {
      "cell_type": "code",
      "metadata": {
        "id": "SGqHihAf0-8q",
        "colab": {
          "resources": {
            "http://localhost:8080/nbextensions/google.colab/files.js": {
              "data": "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",
              "ok": true,
              "headers": [
                [
                  "content-type",
                  "application/javascript"
                ]
              ],
              "status": 200,
              "status_text": ""
            }
          },
          "base_uri": "https://localhost:8080/",
          "height": 90
        },
        "outputId": "1fb5e50f-7e91-4a73-d078-540f3e1ec90b"
      },
      "source": [
        "#preparation\n",
        "import csv\n",
        "import pandas as pd\n",
        "import numpy as np\n",
        "import matplotlib as mpl\n",
        "import matplotlib.pyplot as plt\n",
        "import seaborn as sns\n",
        "import datetime, nltk, warnings\n",
        "import itertools\n",
        "from yellowbrick.cluster import KElbowVisualizer\n",
        "from sklearn.cluster import KMeans\n",
        "from google.colab import files\n",
        "uploaded = files.upload()"
      ],
      "execution_count": 322,
      "outputs": [
        {
          "output_type": "display_data",
          "data": {
            "text/html": [
              "\n",
              "     <input type=\"file\" id=\"files-c3de1826-e9c2-4059-a320-d412ce3af603\" name=\"files[]\" multiple disabled\n",
              "        style=\"border:none\" />\n",
              "     <output id=\"result-c3de1826-e9c2-4059-a320-d412ce3af603\">\n",
              "      Upload widget is only available when the cell has been executed in the\n",
              "      current browser session. Please rerun this cell to enable.\n",
              "      </output>\n",
              "      <script src=\"/nbextensions/google.colab/files.js\"></script> "
            ],
            "text/plain": [
              "<IPython.core.display.HTML object>"
            ]
          },
          "metadata": {
            "tags": []
          }
        },
        {
          "output_type": "stream",
          "text": [
            "Saving ML_2_Fellow.csv to ML_2_Fellow (1).csv\n"
          ],
          "name": "stdout"
        }
      ]
    },
    {
      "cell_type": "code",
      "metadata": {
        "id": "7r9mx3BG5mel"
      },
      "source": [
        "#import the file\n",
        "df=pd.read_csv('ML_2_Fellow.csv',encoding='iso-8859-1')"
      ],
      "execution_count": 323,
      "outputs": []
    },
    {
      "cell_type": "code",
      "metadata": {
        "colab": {
          "base_uri": "https://localhost:8080/"
        },
        "id": "AoyUIZJ91PCc",
        "outputId": "5955fd24-9989-4902-d8ef-395ed5e35088"
      },
      "source": [
        "#cek data description in CSV\n",
        "print(df.describe())"
      ],
      "execution_count": 324,
      "outputs": [
        {
          "output_type": "stream",
          "text": [
            "              Jumlah   Harga_Satuan  Kode_Pelanggan\n",
            "count  535874.000000  535874.000000   403182.000000\n",
            "mean        9.587927       4.636533    15287.687868\n",
            "std       153.292222      97.302232     1714.009551\n",
            "min    -74215.000000  -11062.060000    12346.000000\n",
            "25%         1.000000       1.250000    13952.000000\n",
            "50%         3.000000       2.080000    15152.000000\n",
            "75%        10.000000       4.130000    16791.000000\n",
            "max     74215.000000   38970.000000    18287.000000\n"
          ],
          "name": "stdout"
        }
      ]
    },
    {
      "cell_type": "code",
      "metadata": {
        "colab": {
          "base_uri": "https://localhost:8080/"
        },
        "id": "mVooIijy5l1r",
        "outputId": "baa114cd-8798-418e-b0d5-4480999949ae"
      },
      "source": [
        "#cek data head\n",
        "print(df.head(10))"
      ],
      "execution_count": 325,
      "outputs": [
        {
          "output_type": "stream",
          "text": [
            "  Kode_Bayar Kode_Barang  ... Kode_Pelanggan          Negara\n",
            "0     536365      85123A  ...        17850.0  United Kingdom\n",
            "1     536365       71053  ...        17850.0  United Kingdom\n",
            "2     536365      84406B  ...        17850.0  United Kingdom\n",
            "3     536365      84029G  ...        17850.0  United Kingdom\n",
            "4     536365      84029E  ...        17850.0  United Kingdom\n",
            "5     536365       22752  ...        17850.0  United Kingdom\n",
            "6     536365       21730  ...        17850.0  United Kingdom\n",
            "7     536366       22633  ...        17850.0  United Kingdom\n",
            "8     536366       22632  ...        17850.0  United Kingdom\n",
            "9     536367       84879  ...        13047.0  United Kingdom\n",
            "\n",
            "[10 rows x 8 columns]\n"
          ],
          "name": "stdout"
        }
      ]
    },
    {
      "cell_type": "code",
      "metadata": {
        "colab": {
          "base_uri": "https://localhost:8080/"
        },
        "id": "H4GstCX3_ssU",
        "outputId": "c29fb01d-3c8a-4133-fa42-2b2977aab051"
      },
      "source": [
        "# check type dataFrame\n",
        "print(pd.DataFrame(df.dtypes))\n",
        "print(df.shape)"
      ],
      "execution_count": 326,
      "outputs": [
        {
          "output_type": "stream",
          "text": [
            "                         0\n",
            "Kode_Bayar          object\n",
            "Kode_Barang         object\n",
            "Barang              object\n",
            "Jumlah             float64\n",
            "Tanggal_Transaksi   object\n",
            "Harga_Satuan       float64\n",
            "Kode_Pelanggan     float64\n",
            "Negara              object\n",
            "(541909, 8)\n"
          ],
          "name": "stdout"
        }
      ]
    },
    {
      "cell_type": "code",
      "metadata": {
        "id": "a5rR0vgTAB8D"
      },
      "source": [
        "# change Tanggal_Transaksi to date time format\n",
        "df['Tanggal_Transaksi'] = pd.to_datetime(df['Tanggal_Transaksi'])"
      ],
      "execution_count": 327,
      "outputs": []
    },
    {
      "cell_type": "code",
      "metadata": {
        "id": "eRJc3y53AUhh"
      },
      "source": [
        "# change Kode_Pelanggan to int\n",
        "df['Kode_Pelanggan'] = pd.to_numeric(df['Kode_Pelanggan'])"
      ],
      "execution_count": 328,
      "outputs": []
    },
    {
      "cell_type": "code",
      "metadata": {
        "colab": {
          "base_uri": "https://localhost:8080/",
          "height": 308
        },
        "id": "wYdDRR6J5g0K",
        "outputId": "ea270431-b1c5-4ecc-9a18-efe4a545c523"
      },
      "source": [
        "#cek value in data\n",
        "plt.figure()\n",
        "print(df.boxplot())\n",
        "print(df.shape)\n",
        "#there is a null value and negatif value that resemble cancelation"
      ],
      "execution_count": 329,
      "outputs": [
        {
          "output_type": "stream",
          "text": [
            "AxesSubplot(0.08,0.125;0.87x0.755)\n",
            "(541909, 8)\n"
          ],
          "name": "stdout"
        },
        {
          "output_type": "display_data",
          "data": {
            "image/png": "[encoded data removed]",
            "text/plain": [
              "<Figure size 432x288 with 1 Axes>"
            ]
          },
          "metadata": {
            "tags": []
          }
        }
      ]
    },
    {
      "cell_type": "code",
      "metadata": {
        "colab": {
          "base_uri": "https://localhost:8080/"
        },
        "id": "1lLznnITTwhU",
        "outputId": "14f3752e-7a2a-4a6e-8257-135cc15da755"
      },
      "source": [
        "df.dropna(axis = 0, subset = ['Kode_Pelanggan'], inplace = True)\n",
        "print(df.shape)"
      ],
      "execution_count": 330,
      "outputs": [
        {
          "output_type": "stream",
          "text": [
            "(403182, 8)\n"
          ],
          "name": "stdout"
        }
      ]
    },
    {
      "cell_type": "code",
      "metadata": {
        "colab": {
          "base_uri": "https://localhost:8080/"
        },
        "id": "7aGTEL4sTwlC",
        "outputId": "391ff8b9-fa42-4a2d-a054-ed06ab1bed64"
      },
      "source": [
        "#drop duplikat\n",
        "df.drop_duplicates(inplace = True)\n",
        "print(df.shape)"
      ],
      "execution_count": 331,
      "outputs": [
        {
          "output_type": "stream",
          "text": [
            "(398003, 8)\n"
          ],
          "name": "stdout"
        }
      ]
    },
    {
      "cell_type": "code",
      "metadata": {
        "colab": {
          "base_uri": "https://localhost:8080/"
        },
        "id": "FG3rqnJnTwol",
        "outputId": "58ad4228-8c67-413a-8b23-f4e25fe67e4c"
      },
      "source": [
        "#check n country\n",
        "temp = df.groupby(['Kode_Pelanggan', 'Kode_Bayar', 'Negara']).count()\n",
        "temp = temp.reset_index(drop = False)\n",
        "countries = temp['Negara'].value_counts()\n",
        "print(len(countries))\n",
        "print(countries.head(10))\n",
        "#most customer from UK"
      ],
      "execution_count": 332,
      "outputs": [
        {
          "output_type": "stream",
          "text": [
            "37\n",
            "United Kingdom    19830\n",
            "Germany             603\n",
            "France              458\n",
            "EIRE                319\n",
            "Belgium             119\n",
            "Spain               105\n",
            "Netherlands         101\n",
            "Switzerland          71\n",
            "Portugal             70\n",
            "Australia            69\n",
            "Name: Negara, dtype: int64\n"
          ],
          "name": "stdout"
        }
      ]
    },
    {
      "cell_type": "code",
      "metadata": {
        "colab": {
          "base_uri": "https://localhost:8080/"
        },
        "id": "5doCoUspTwrp",
        "outputId": "ad756080-794e-48ac-8e24-ce1cbb38cbf4"
      },
      "source": [
        "#cek banyak order barang per negara\n",
        "temp = df.groupby(['Barang', 'Negara']).count()\n",
        "temp = temp.reset_index(drop = False)\n",
        "temp['Negara'].value_counts().head(10)\n"
      ],
      "execution_count": 333,
      "outputs": [
        {
          "output_type": "execute_result",
          "data": {
            "text/plain": [
              "United Kingdom    3757\n",
              "EIRE              1967\n",
              "Germany           1687\n",
              "France            1530\n",
              "Spain             1093\n",
              "Switzerland        945\n",
              "Netherlands        798\n",
              "Belgium            780\n",
              "Portugal           691\n",
              "Australia          602\n",
              "Name: Negara, dtype: int64"
            ]
          },
          "metadata": {
            "tags": []
          },
          "execution_count": 333
        }
      ]
    },
    {
      "cell_type": "code",
      "metadata": {
        "colab": {
          "base_uri": "https://localhost:8080/"
        },
        "id": "xoT8hdrZTwuv",
        "outputId": "52122869-5956-42a4-c940-50b57c025149"
      },
      "source": [
        "#Check total order barang\n",
        "len(df['Kode_Barang'].value_counts())"
      ],
      "execution_count": 334,
      "outputs": [
        {
          "output_type": "execute_result",
          "data": {
            "text/plain": [
              "3603"
            ]
          },
          "metadata": {
            "tags": []
          },
          "execution_count": 334
        }
      ]
    },
    {
      "cell_type": "code",
      "metadata": {
        "colab": {
          "base_uri": "https://localhost:8080/"
        },
        "id": "x3R1JrEhTwyb",
        "outputId": "9c098640-a81c-4195-cba0-078f5450f887"
      },
      "source": [
        "#Check total kode_bayar\n",
        "len(df['Kode_Bayar'].value_counts())"
      ],
      "execution_count": 335,
      "outputs": [
        {
          "output_type": "execute_result",
          "data": {
            "text/plain": [
              "22161"
            ]
          },
          "metadata": {
            "tags": []
          },
          "execution_count": 335
        }
      ]
    },
    {
      "cell_type": "code",
      "metadata": {
        "colab": {
          "base_uri": "https://localhost:8080/"
        },
        "id": "K2zeJ4qRI6kw",
        "outputId": "82348f8d-ee3e-4747-b5e2-84739980c23a"
      },
      "source": [
        "#Check banyak cancel\n",
        "temp = df\n",
        "temp['Batal'] = df['Kode_Bayar'].apply(lambda x:int('C' in x))\n",
        "print(temp.sort_values(by='Batal', ascending=False).head())"
      ],
      "execution_count": 336,
      "outputs": [
        {
          "output_type": "stream",
          "text": [
            "       Kode_Bayar Kode_Barang  ...          Negara  Batal\n",
            "217767    C555935       23049  ...          France      1\n",
            "70659     C542092       22663  ...  United Kingdom      1\n",
            "70657     C542092       20723  ...  United Kingdom      1\n",
            "70656     C542092       21931  ...  United Kingdom      1\n",
            "70655     C542092       20725  ...  United Kingdom      1\n",
            "\n",
            "[5 rows x 9 columns]\n"
          ],
          "name": "stdout"
        }
      ]
    },
    {
      "cell_type": "code",
      "metadata": {
        "colab": {
          "base_uri": "https://localhost:8080/"
        },
        "id": "GJUyWhRQI6px",
        "outputId": "867297a8-de59-4090-b35c-37f6822be452"
      },
      "source": [
        "#cek banyak order barang batal\n",
        "temp = temp.groupby(['Negara', 'Batal']).count()\n",
        "temp = temp.reset_index(drop = False)\n",
        "temp['Negara'].value_counts().head(10)"
      ],
      "execution_count": 337,
      "outputs": [
        {
          "output_type": "execute_result",
          "data": {
            "text/plain": [
              "Saudi Arabia      2\n",
              "Italy             2\n",
              "Austria           2\n",
              "Israel            2\n",
              "Sweden            2\n",
              "Australia         2\n",
              "Poland            2\n",
              "Czech Republic    2\n",
              "EIRE              2\n",
              "USA               2\n",
              "Name: Negara, dtype: int64"
            ]
          },
          "metadata": {
            "tags": []
          },
          "execution_count": 337
        }
      ]
    },
    {
      "cell_type": "code",
      "metadata": {
        "id": "HmtJxZ29I6vA"
      },
      "source": [
        "df1 = df.copy(deep = True)\n",
        "df1['nBatal'] = 0\n",
        "\n",
        "df_hapus = []\n",
        "\n",
        "for index, col in  df.iterrows():\n",
        "    if (col['Jumlah'] > 0) or col['Barang'] == 'Discount': continue        \n",
        "    df_test = df[(df['Kode_Pelanggan'] == col['Kode_Pelanggan']) &\n",
        "                         (df['Kode_Barang']  == col['Kode_Barang']) & \n",
        "                         (df['Tanggal_Transaksi'] < col['Tanggal_Transaksi']) & \n",
        "                         (df['Jumlah']   > 0)].copy()\n",
        "    if (df_test.shape[0] == 0): \n",
        "        df_hapus.append(index)\n",
        "    elif (df_test.shape[0] == 1): \n",
        "        index_order = df_test.index[0]\n",
        "        df1.loc[index_order, 'nBatal'] = -col['Jumlah']\n",
        "        df_hapus.append(index)        \n",
        "    elif (df_test.shape[0] > 1): \n",
        "        df_test.sort_index(axis=0 ,ascending=False, inplace = True)        \n",
        "        for ind, val in df_test.iterrows():\n",
        "            if val['Jumlah'] < -col['Jumlah']: continue\n",
        "            df1.loc[ind, 'nBatal'] = -col['Jumlah']\n",
        "            df_hapus.append(index) \n",
        "            break   \n"
      ],
      "execution_count": 338,
      "outputs": []
    },
    {
      "cell_type": "code",
      "metadata": {
        "colab": {
          "base_uri": "https://localhost:8080/"
        },
        "id": "orR0P14eRhip",
        "outputId": "f23608c9-b5ef-4718-aad8-3bb433fee214"
      },
      "source": [
        "#banyak n dihapus\n",
        "print(len(df_hapus))"
      ],
      "execution_count": 339,
      "outputs": [
        {
          "output_type": "stream",
          "text": [
            "8682\n"
          ],
          "name": "stdout"
        }
      ]
    },
    {
      "cell_type": "code",
      "metadata": {
        "colab": {
          "base_uri": "https://localhost:8080/"
        },
        "id": "4mLGDB-KV2TM",
        "outputId": "73ffb47a-f371-43ce-a459-fe56c5d03e62"
      },
      "source": [
        "#Check banyak cancel\n",
        "temp = df1\n",
        "print(temp.sort_values(by='nBatal', ascending=False).head())"
      ],
      "execution_count": 340,
      "outputs": [
        {
          "output_type": "stream",
          "text": [
            "       Kode_Bayar Kode_Barang  ... Batal  nBatal\n",
            "61619      541431       23166  ...     0   74215\n",
            "52711      540815       21108  ...     0    3114\n",
            "52710      540815       21175  ...     0    2000\n",
            "52709      540815      85123A  ...     0    1930\n",
            "223446     556484       22920  ...     0    1515\n",
            "\n",
            "[5 rows x 10 columns]\n"
          ],
          "name": "stdout"
        }
      ]
    },
    {
      "cell_type": "code",
      "metadata": {
        "colab": {
          "base_uri": "https://localhost:8080/"
        },
        "id": "2aQ5jhgHWciC",
        "outputId": "7e0e1f8e-5538-4eb3-9d5c-e06b2fc5248a"
      },
      "source": [
        "#check C cancel\n",
        "print(df.sort_values(by='Jumlah', ascending=True).head())"
      ],
      "execution_count": 341,
      "outputs": [
        {
          "output_type": "stream",
          "text": [
            "       Kode_Bayar Kode_Barang  ...          Negara  Batal\n",
            "61624     C541433       23166  ...  United Kingdom      1\n",
            "4287      C536757       84347  ...  United Kingdom      1\n",
            "160145    C550456       21108  ...  United Kingdom      1\n",
            "160144    C550456       21175  ...  United Kingdom      1\n",
            "160143    C550456      85123A  ...  United Kingdom      1\n",
            "\n",
            "[5 rows x 9 columns]\n"
          ],
          "name": "stdout"
        }
      ]
    },
    {
      "cell_type": "code",
      "metadata": {
        "id": "aWLEgMvtI60R"
      },
      "source": [
        "#filter nBatal with only 0\n",
        "temp = temp[temp['nBatal'] == 0]"
      ],
      "execution_count": 342,
      "outputs": []
    },
    {
      "cell_type": "code",
      "metadata": {
        "id": "8Oz5LRodI62t"
      },
      "source": [
        "#filter negatif transaction\n",
        "df_clean = temp[temp['Jumlah'] >= 0]\n",
        "df_clean.sort_values(by='Batal', ascending=True).head()\n",
        "#free from negatif transaction and cancelation\n",
        "del(df_clean[\"Batal\"])\n",
        "del(df_clean[\"nBatal\"])"
      ],
      "execution_count": 343,
      "outputs": []
    },
    {
      "cell_type": "code",
      "metadata": {
        "colab": {
          "base_uri": "https://localhost:8080/"
        },
        "id": "OKCiVGZEI68e",
        "outputId": "6b35777b-33cc-44a1-b9f4-5abe7da535b8"
      },
      "source": [
        "print(df_clean.head())"
      ],
      "execution_count": 344,
      "outputs": [
        {
          "output_type": "stream",
          "text": [
            "  Kode_Bayar Kode_Barang  ... Kode_Pelanggan          Negara\n",
            "0     536365      85123A  ...        17850.0  United Kingdom\n",
            "1     536365       71053  ...        17850.0  United Kingdom\n",
            "2     536365      84406B  ...        17850.0  United Kingdom\n",
            "3     536365      84029G  ...        17850.0  United Kingdom\n",
            "4     536365      84029E  ...        17850.0  United Kingdom\n",
            "\n",
            "[5 rows x 8 columns]\n"
          ],
          "name": "stdout"
        }
      ]
    },
    {
      "cell_type": "code",
      "metadata": {
        "colab": {
          "base_uri": "https://localhost:8080/"
        },
        "id": "rw668Dt3Tw6z",
        "outputId": "e25692f4-ab45-4004-993e-4e67231ac671"
      },
      "source": [
        "# get the goods with highest order\n",
        "sum = df_clean.groupby(['Barang']).sum()\n",
        "print(sum.sort_values(by='Jumlah', ascending=False).head(10))"
      ],
      "execution_count": 345,
      "outputs": [
        {
          "output_type": "stream",
          "text": [
            "                                     Jumlah  Harga_Satuan  Kode_Pelanggan\n",
            "Barang                                                                   \n",
            "WORLD WAR 2 GLIDERS ASSTD DESIGNS   52879.0        136.74       7141480.0\n",
            "JUMBO BAG RED RETROSPOT             43423.0       3187.39      24162344.0\n",
            "ASSORTED COLOUR BIRD ORNAMENT       35032.0       2331.31      21123368.0\n",
            "WHITE HANGING HEART T-LIGHT HOLDER  33287.0       5727.07      30803197.0\n",
            "PACK OF 72 RETROSPOT CAKE CASES     33286.0        570.22      15703626.0\n",
            "POPCORN HOLDER                      27949.0        529.04       9626225.0\n",
            "RABBIT NIGHT LIGHT                  26619.0       1629.13      12046671.0\n",
            "MINI PAINT SET VINTAGE              25752.0        208.17       4670379.0\n",
            "PACK OF 12 LONDON TISSUES           25293.0        127.04       6123285.0\n",
            "PACK OF 60 PINK PAISLEY CAKE CASES  24086.0        370.01      10300366.0\n"
          ],
          "name": "stdout"
        }
      ]
    },
    {
      "cell_type": "code",
      "metadata": {
        "colab": {
          "base_uri": "https://localhost:8080/"
        },
        "id": "hT3cY_qrb-Wc",
        "outputId": "4b062583-eb33-499c-e69c-826bfb962014"
      },
      "source": [
        "# get the goods with Least order\n",
        "sum = df_clean.groupby(['Barang']).sum()\n",
        "least = sum[sum['Jumlah'] == 1.0]\n",
        "print(least.head())\n",
        "print(\"nLeast : \" + str(len(least)))"
      ],
      "execution_count": 346,
      "outputs": [
        {
          "output_type": "stream",
          "text": [
            "                                    Jumlah  Harga_Satuan  Kode_Pelanggan\n",
            "Barang                                                                  \n",
            " I LOVE LONDON MINI RUCKSACK           1.0          4.15         14646.0\n",
            "AMBER BERTIE GLASS BEAD BAG CHARM      1.0          2.10         17550.0\n",
            "AMBER GLASS/SHELL/PEARL NECKLACE       1.0          8.95         13709.0\n",
            "BAROQUE BUTTERFLY EARRINGS CRYSTAL     1.0          3.75         17571.0\n",
            "BLACK DROP EARRINGS W LONG BEADS       1.0          2.95         14570.0\n",
            "nLeast : 62\n"
          ],
          "name": "stdout"
        }
      ]
    },
    {
      "cell_type": "code",
      "metadata": {
        "colab": {
          "base_uri": "https://localhost:8080/"
        },
        "id": "wZeR8EMPb-bh",
        "outputId": "3c2cfb97-2c89-4c0e-8236-5ce9a739f71c"
      },
      "source": [
        "barangUnique = pd.DataFrame(df_clean['Barang'].unique()).rename(columns = {0:'Barang'})\n",
        "print(barangUnique.sort_values(by='Barang', ascending=False).head(10))\n",
        "print(len(barangUnique))"
      ],
      "execution_count": 347,
      "outputs": [
        {
          "output_type": "stream",
          "text": [
            "                                Barang\n",
            "2912  ZINC WIRE SWEETHEART LETTER TRAY\n",
            "2960       ZINC WIRE KITCHEN ORGANISER\n",
            "94    ZINC WILLIE WINKIE  CANDLE STICK\n",
            "2391    ZINC TOP  2 DOOR WOODEN SHELF \n",
            "2901   ZINC T-LIGHT HOLDER STARS SMALL\n",
            "3084   ZINC T-LIGHT HOLDER STARS LARGE\n",
            "2909    ZINC T-LIGHT HOLDER STAR LARGE\n",
            "2880  ZINC SWEETHEART WIRE LETTER RACK\n",
            "2964         ZINC SWEETHEART SOAP DISH\n",
            "3089         ZINC STAR T-LIGHT HOLDER \n",
            "3755\n"
          ],
          "name": "stdout"
        }
      ]
    },
    {
      "cell_type": "code",
      "metadata": {
        "colab": {
          "base_uri": "https://localhost:8080/"
        },
        "id": "ULfgeMGXb-eX",
        "outputId": "cb1ee9f3-73d4-47e6-dc36-ecf8e3fe21b1"
      },
      "source": [
        "print(df_clean.head())"
      ],
      "execution_count": 348,
      "outputs": [
        {
          "output_type": "stream",
          "text": [
            "  Kode_Bayar Kode_Barang  ... Kode_Pelanggan          Negara\n",
            "0     536365      85123A  ...        17850.0  United Kingdom\n",
            "1     536365       71053  ...        17850.0  United Kingdom\n",
            "2     536365      84406B  ...        17850.0  United Kingdom\n",
            "3     536365      84029G  ...        17850.0  United Kingdom\n",
            "4     536365      84029E  ...        17850.0  United Kingdom\n",
            "\n",
            "[5 rows x 8 columns]\n"
          ],
          "name": "stdout"
        }
      ]
    },
    {
      "cell_type": "code",
      "metadata": {
        "id": "TxCaAp6nb-gx"
      },
      "source": [
        "temp1=df_clean.copy(deep = True)"
      ],
      "execution_count": 358,
      "outputs": []
    },
    {
      "cell_type": "code",
      "metadata": {
        "colab": {
          "base_uri": "https://localhost:8080/"
        },
        "id": "blGHxlBzhwm5",
        "outputId": "4c0b4a08-a0e0-458a-d45d-d8a19e16f83c"
      },
      "source": [
        "print(temp1.head())"
      ],
      "execution_count": 359,
      "outputs": [
        {
          "output_type": "stream",
          "text": [
            "  Kode_Bayar Kode_Barang  ... Kode_Pelanggan          Negara\n",
            "0     536365      85123A  ...        17850.0  United Kingdom\n",
            "1     536365       71053  ...        17850.0  United Kingdom\n",
            "2     536365      84406B  ...        17850.0  United Kingdom\n",
            "3     536365      84029G  ...        17850.0  United Kingdom\n",
            "4     536365      84029E  ...        17850.0  United Kingdom\n",
            "\n",
            "[5 rows x 8 columns]\n"
          ],
          "name": "stdout"
        }
      ]
    },
    {
      "cell_type": "code",
      "metadata": {
        "id": "o6k4bHbFifbB"
      },
      "source": [
        "df_cleaned = (df_clean.groupby(['Kode_Pelanggan','Negara'],as_index=False).agg({'Kode_Bayar':'nunique', 'Kode_Barang':'nunique','Harga_Satuan':'mean','Jumlah':'sum'}))\n",
        "df_cleaned\n",
        "df_cleaned.reset_index()\n",
        "df_cleaned['rerata']=df_cleaned['Jumlah']/df_cleaned['Kode_Bayar']\n",
        "df_cleaned = df_cleaned[['Kode_Bayar','Harga_Satuan','rerata']]"
      ],
      "execution_count": 360,
      "outputs": []
    },
    {
      "cell_type": "code",
      "metadata": {
        "id": "sQvOmVJEifdj"
      },
      "source": [
        "#find the outlier and remove\n",
        "index = 0\n",
        "while index<=len(df_cleaned)-1:\n",
        "    q1, q3 = np.percentile(df_cleaned['rerata'], [25, 75])\n",
        "    iqr = q3 - q1\n",
        "    lb = q1 - (iqr *1.5 )\n",
        "    ub = q3 + (iqr *1.5)\n",
        "    \n",
        "    if df_cleaned.loc[index,'rerata']> ub:\n",
        "        df_cleaned.loc[index,'outlier']=1\n",
        "    elif df_cleaned.loc[index,'rerata']< lb:\n",
        "        df_cleaned.loc[index,'outlier']=1\n",
        "    else:\n",
        "        df_cleaned.loc[index,'outlier']=0\n",
        "    index += 1\n"
      ],
      "execution_count": 361,
      "outputs": []
    },
    {
      "cell_type": "code",
      "metadata": {
        "colab": {
          "base_uri": "https://localhost:8080/",
          "height": 305
        },
        "id": "o4VduN18lMUH",
        "outputId": "148d2850-091c-467a-c262-3a78b53c6429"
      },
      "source": [
        "print(sns.countplot(x=\"outlier\", data=df_cleaned))"
      ],
      "execution_count": 362,
      "outputs": [
        {
          "output_type": "stream",
          "text": [
            "AxesSubplot(0.08,0.125;0.87x0.755)\n"
          ],
          "name": "stdout"
        },
        {
          "output_type": "display_data",
          "data": {
            "image/png": "[encoded data removed]",
            "text/plain": [
              "<Figure size 432x288 with 1 Axes>"
            ]
          },
          "metadata": {
            "tags": []
          }
        }
      ]
    },
    {
      "cell_type": "code",
      "metadata": {
        "id": "WAulk70rifgL"
      },
      "source": [
        "#remove the outlier\n",
        "df_cleaned = df_cleaned[df_cleaned['outlier']==0]\n",
        "df_cleaned = df_cleaned.drop(columns=['outlier'])"
      ],
      "execution_count": 363,
      "outputs": []
    },
    {
      "cell_type": "code",
      "metadata": {
        "colab": {
          "base_uri": "https://localhost:8080/",
          "height": 325
        },
        "id": "dCM3KjcWifjE",
        "outputId": "7ad4558a-cf86-4a26-abc4-617bd8b9f7d4"
      },
      "source": [
        "#Elbow Method\n",
        "model = KMeans()\n",
        "visualizer = KElbowVisualizer(model, k=(2,12))\n",
        "print(visualizer.fit(df_cleaned))"
      ],
      "execution_count": 364,
      "outputs": [
        {
          "output_type": "stream",
          "text": [
            "KElbowVisualizer(ax=<matplotlib.axes._subplots.AxesSubplot object at 0x7f7a31986b50>,\n",
            "                 k=None, metric=None, model=None, timings=True)\n"
          ],
          "name": "stdout"
        },
        {
          "output_type": "display_data",
          "data": {
            "image/png": "[encoded data removed]",
            "text/plain": [
              "<Figure size 432x288 with 2 Axes>"
            ]
          },
          "metadata": {
            "tags": []
          }
        }
      ]
    },
    {
      "cell_type": "code",
      "metadata": {
        "colab": {
          "base_uri": "https://localhost:8080/"
        },
        "id": "5DppQEsvifoJ",
        "outputId": "9138eebb-dc9e-42bc-dd94-032610a4732f"
      },
      "source": [
        "#Clustering\n",
        "kmeans = KMeans(5)\n",
        "kmeans.fit(df_cleaned)\n",
        "identified_clusters = kmeans.fit_predict(df_cleaned)\n",
        "data_with_clusters = df_cleaned.copy()\n",
        "data_with_clusters['Cluster'] = identified_clusters\n",
        "print(\"cluster center:\")\n",
        "print(kmeans.cluster_centers_)\n",
        "print(identified_clusters)"
      ],
      "execution_count": 365,
      "outputs": [
        {
          "output_type": "stream",
          "text": [
            "cluster center:\n",
            "[[4.78760046e+00 2.77152114e+00 2.60256897e+02]\n",
            " [3.32897454e+00 5.26910039e+00 6.67451991e+01]\n",
            " [4.34469697e+00 3.11175268e+00 1.53838390e+02]\n",
            " [1.00000000e+00 2.03310000e+03 1.00000000e+00]\n",
            " [4.90338164e+00 2.50404002e+00 3.97875147e+02]]\n",
            "[4 2 1 ... 1 1 1]\n"
          ],
          "name": "stdout"
        }
      ]
    },
    {
      "cell_type": "code",
      "metadata": {
        "colab": {
          "base_uri": "https://localhost:8080/",
          "height": 360
        },
        "id": "jxkpTV-4ifqz",
        "outputId": "dec3469f-e020-4f94-a1dd-2ff231452451"
      },
      "source": [
        "#plot data with clusters\n",
        "sns.set(style=\"darkgrid\")\n",
        "f, ax = plt.subplots(figsize=(5, 5))\n",
        "ax = sns.countplot(x=\"Cluster\", data=data_with_clusters)\n",
        "data_with_clusters.groupby(['Cluster']).count()\n",
        "fig = plt.figure()"
      ],
      "execution_count": 366,
      "outputs": [
        {
          "output_type": "display_data",
          "data": {
            "image/png": "[encoded data removed]",
            "text/plain": [
              "<Figure size 360x360 with 1 Axes>"
            ]
          },
          "metadata": {
            "tags": []
          }
        },
        {
          "output_type": "display_data",
          "data": {
            "text/plain": [
              "<Figure size 432x288 with 0 Axes>"
            ]
          },
          "metadata": {
            "tags": []
          }
        }
      ]
    },
    {
      "cell_type": "code",
      "metadata": {
        "id": "lxJ45qDJiftt"
      },
      "source": [
        ""
      ],
      "execution_count": null,
      "outputs": []
    }
  ]
}